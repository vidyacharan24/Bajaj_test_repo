{
 "cells": [
  {
   "cell_type": "code",
   "execution_count": 2,
   "id": "884e31de",
   "metadata": {},
   "outputs": [],
   "source": [
    "import pandas as pd"
   ]
  },
  {
   "cell_type": "code",
   "execution_count": 11,
   "id": "880f8195",
   "metadata": {},
   "outputs": [],
   "source": [
    "data1=pd.read_csv(\"data1.csv\",sep=\"|\")\n",
    "data2=pd.read_xml(\"data2.xml\")\n",
    "data3=pd.read_json(\"data3.json\")"
   ]
  },
  {
   "cell_type": "code",
   "execution_count": null,
   "id": "4aaa811e",
   "metadata": {},
   "outputs": [],
   "source": [
    "#Part 1 checking datatypes of all dataframes"
   ]
  },
  {
   "cell_type": "code",
   "execution_count": 7,
   "id": "5fd6fb8a",
   "metadata": {},
   "outputs": [
    {
     "name": "stdout",
     "output_type": "stream",
     "text": [
      "Output:\n",
      "ID|\"V1\"|\"V2\"|\"V3\"|\"V4\"|\"V5\"|\"V6\"|\"V7\"|\"V8\"|\"V9\"|\"V10\"|\"V11\"|\"V12\"|\"V13\"|\"V14\"|\"V15\"|\"V16\"|\"V17\"|\"V18\"|\"V19\"|\"V20\"    object\n",
      "dtype: object\n"
     ]
    }
   ],
   "source": [
    "result = data1.dtypes\n",
    "\n",
    "print(\"Output:\")\n",
    "print(result)"
   ]
  },
  {
   "cell_type": "code",
   "execution_count": 8,
   "id": "5f3ff370",
   "metadata": {},
   "outputs": [
    {
     "name": "stdout",
     "output_type": "stream",
     "text": [
      "Output:\n",
      "ID       int64\n",
      "V21    float64\n",
      "V22    float64\n",
      "V23    float64\n",
      "V24    float64\n",
      "V25    float64\n",
      "V26    float64\n",
      "V27    float64\n",
      "V28    float64\n",
      "V29    float64\n",
      "V30    float64\n",
      "V31    float64\n",
      "V32    float64\n",
      "V33    float64\n",
      "V34    float64\n",
      "V35    float64\n",
      "V36    float64\n",
      "V37    float64\n",
      "V38    float64\n",
      "V39    float64\n",
      "V40    float64\n",
      "dtype: object\n"
     ]
    }
   ],
   "source": [
    "result = data2.dtypes\n",
    "\n",
    "print(\"Output:\")\n",
    "print(result)"
   ]
  },
  {
   "cell_type": "code",
   "execution_count": 9,
   "id": "0ffa560f",
   "metadata": {},
   "outputs": [
    {
     "name": "stdout",
     "output_type": "stream",
     "text": [
      "Output:\n",
      "ID         int64\n",
      "V41      float64\n",
      "V42      float64\n",
      "V43      float64\n",
      "V44      float64\n",
      "V45      float64\n",
      "V46      float64\n",
      "V47      float64\n",
      "V48      float64\n",
      "V49      float64\n",
      "V50      float64\n",
      "V51      float64\n",
      "V52      float64\n",
      "V53      float64\n",
      "V54      float64\n",
      "V55      float64\n",
      "V56      float64\n",
      "V57      float64\n",
      "V58      float64\n",
      "V59      float64\n",
      "V60      float64\n",
      "Class     object\n",
      "dtype: object\n"
     ]
    }
   ],
   "source": [
    "result = data3.dtypes\n",
    "\n",
    "print(\"Output:\")\n",
    "print(result)"
   ]
  },
  {
   "cell_type": "code",
   "execution_count": 232,
   "id": "7276229d",
   "metadata": {},
   "outputs": [],
   "source": [
    "col=(data1.columns[0])"
   ]
  },
  {
   "cell_type": "code",
   "execution_count": null,
   "id": "225c20eb",
   "metadata": {},
   "outputs": [],
   "source": [
    "#Part 2"
   ]
  },
  {
   "cell_type": "code",
   "execution_count": 233,
   "id": "26463c88",
   "metadata": {},
   "outputs": [
    {
     "name": "stdout",
     "output_type": "stream",
     "text": [
      "  ID|\"V1\"|\"V2\"|\"V3\"|\"V4\"|\"V5\"|\"V6\"|\"V7\"|\"V8\"|\"V9\"|\"V10\"|\"V11\"|\"V12\"|\"V13\"|\"V14\"|\"V15\"|\"V16\"|\"V17\"|\"V18\"|\"V19\"|\"V20\"\n",
      "0  148|0.0654|0.0649|0.0737|0.1132|0.2482|0.1257|...                                                               \n",
      "1  51|0.0353|0.0713|0.0326|0.0272|0.037|0.0792|0....                                                               \n",
      "2  81|0.0229|0.0369|0.004|0.0375|0.0455|0.1452|0....                                                               \n",
      "3  19|0.027|0.0092|0.0145|0.0278|0.0412|0.0757|0....                                                               \n",
      "4  197|0.005|0.0017|0.027|0.045|0.0958|0.083|0.08...                                                               \n",
      "ID|\"V1\"|\"V2\"|\"V3\"|\"V4\"|\"V5\"|\"V6\"|\"V7\"|\"V8\"|\"V9\"|\"V10\"|\"V11\"|\"V12\"|\"V13\"|\"V14\"|\"V15\"|\"V16\"|\"V17\"|\"V18\"|\"V19\"|\"V20\"\n"
     ]
    }
   ],
   "source": [
    "print(data1.head())\n",
    "print(col)\n",
    "li=data1[col]"
   ]
  },
  {
   "cell_type": "code",
   "execution_count": 234,
   "id": "2f4d250c",
   "metadata": {},
   "outputs": [],
   "source": [
    "col_perm=[]\n",
    "temp=\"\"\n",
    "for i in str(col):\n",
    "    if i!=\"|\":\n",
    "        temp=temp+i\n",
    "    else:\n",
    "        col_perm.append(temp)\n",
    "        temp=\"\""
   ]
  },
  {
   "cell_type": "code",
   "execution_count": 235,
   "id": "83191b7e",
   "metadata": {},
   "outputs": [],
   "source": [
    "for i in range(0,len(col_perm)):\n",
    "    col_perm[i]=col_perm[i].replace(\"\\\"\",\"\")"
   ]
  },
  {
   "cell_type": "code",
   "execution_count": 236,
   "id": "404cc280",
   "metadata": {},
   "outputs": [],
   "source": [
    "row_perm=[]\n",
    "for i in li:\n",
    "    row_temp=\"\"\n",
    "    r_t2=[]\n",
    "    for j in str(i):\n",
    "        row_temp=row_temp+j\n",
    "    r_t2=row_temp.split(\"|\")\n",
    "    row_perm.append(r_t2)"
   ]
  },
  {
   "cell_type": "code",
   "execution_count": 238,
   "id": "587737ef",
   "metadata": {},
   "outputs": [],
   "source": [
    "row_perm=transpose(row_perm)"
   ]
  },
  {
   "cell_type": "code",
   "execution_count": 239,
   "id": "82c44e80",
   "metadata": {},
   "outputs": [],
   "source": [
    "data1_n = pd.DataFrame()"
   ]
  },
  {
   "cell_type": "code",
   "execution_count": 240,
   "id": "0cb66dec",
   "metadata": {},
   "outputs": [],
   "source": [
    "for i in range(0,len(col_perm)):\n",
    "    data1_n[col_perm[i]]=row_perm[i]"
   ]
  },
  {
   "cell_type": "code",
   "execution_count": 247,
   "id": "efec2b71",
   "metadata": {},
   "outputs": [
    {
     "name": "stdout",
     "output_type": "stream",
     "text": [
      "208\n",
      "208\n",
      "208\n"
     ]
    }
   ],
   "source": [
    "print(len(data1_n))\n",
    "print(len(data2))\n",
    "print(len(data3))"
   ]
  },
  {
   "cell_type": "code",
   "execution_count": 252,
   "id": "98f24632",
   "metadata": {},
   "outputs": [
    {
     "name": "stdout",
     "output_type": "stream",
     "text": [
      "    ID      V1      V2      V3      V4      V5      V6      V7      V8  \\\n",
      "0  148  0.0654  0.0649  0.0737  0.1132  0.2482  0.1257  0.1797  0.0989   \n",
      "1   51  0.0353  0.0713  0.0326  0.0272   0.037  0.0792  0.1083  0.0687   \n",
      "2   81  0.0229  0.0369   0.004  0.0375  0.0455  0.1452  0.2211  0.1188   \n",
      "3   19   0.027  0.0092  0.0145  0.0278  0.0412  0.0757  0.1026  0.1138   \n",
      "4  197   0.005  0.0017   0.027   0.045  0.0958   0.083  0.0879   0.122   \n",
      "\n",
      "       V9     V10     V11     V12     V13     V14     V15     V16     V17  \\\n",
      "0   0.246  0.3422  0.2128  0.1377  0.4032  0.5684  0.2398  0.4331  0.5954   \n",
      "1  0.0298   0.088  0.1078  0.0979   0.225  0.2819  0.2099   0.124  0.1699   \n",
      "2   0.075  0.1631  0.2709  0.3358  0.4091    0.44  0.5485  0.7213  0.8137   \n",
      "3  0.0794   0.152  0.1675   0.137  0.1361  0.1345  0.2144  0.5354   0.683   \n",
      "4  0.1977  0.2282  0.2521  0.3484  0.3309  0.2614  0.1782  0.2055  0.2298   \n",
      "\n",
      "      V18     V19  \n",
      "0  0.5772  0.8176  \n",
      "1  0.0939  0.1091  \n",
      "2  0.9185       1  \n",
      "3    0.56  0.3093  \n",
      "4  0.3545  0.6218  \n"
     ]
    }
   ],
   "source": [
    "print(data1_n.head())#corrected dataset"
   ]
  },
  {
   "cell_type": "code",
   "execution_count": 254,
   "id": "14e6ebb7",
   "metadata": {},
   "outputs": [
    {
     "name": "stdout",
     "output_type": "stream",
     "text": [
      "    ID     V21     V22     V23     V24     V25     V26     V27     V28  \\\n",
      "0   83  0.7561  0.8217  0.6967  0.6444  0.6948  0.8014  0.6053  0.6084   \n",
      "1  206  0.3164  0.5888  0.7631  0.8473  0.9424  0.9986  0.9699  1.0000   \n",
      "2   64  0.5911  0.6566  0.6308  0.5998  0.4958  0.5647  0.6906  0.8513   \n",
      "3   70  0.2005  0.1571  0.2605  0.5386  0.8440  1.0000  0.8684  0.6742   \n",
      "4  182  0.6802  0.6320  0.5824  0.6805  0.5984  0.8412  0.9911  0.9187   \n",
      "\n",
      "      V29  ...     V31     V32     V33     V34     V35     V36     V37  \\\n",
      "0  0.8877  ...  0.5563  0.2897  0.3638  0.4786  0.2908  0.0899  0.2043   \n",
      "1  0.8630  ...  0.7717  0.7305  0.5197  0.1786  0.1098  0.1446  0.1066   \n",
      "2  1.0000  ...  0.7676  0.6177  0.5468  0.5516  0.5463  0.5515  0.4561   \n",
      "3  0.5537  ...  0.3609  0.2055  0.1620  0.2092  0.3100  0.2344  0.1058   \n",
      "4  0.8005  ...  0.5632  0.7332  0.6038  0.2575  0.0349  0.1799  0.3039   \n",
      "\n",
      "      V38     V39     V40  \n",
      "0  0.1707  0.0407  0.1286  \n",
      "1  0.1440  0.1929  0.0325  \n",
      "2  0.3466  0.3384  0.2853  \n",
      "3  0.0383  0.0528  0.1291  \n",
      "4  0.4760  0.5756  0.4254  \n",
      "\n",
      "[5 rows x 21 columns]\n"
     ]
    }
   ],
   "source": [
    "print(data2.head())#data2 "
   ]
  },
  {
   "cell_type": "code",
   "execution_count": 256,
   "id": "e4486ebe",
   "metadata": {},
   "outputs": [
    {
     "name": "stdout",
     "output_type": "stream",
     "text": [
      "    ID     V41     V42     V43     V44     V45     V46     V47     V48  \\\n",
      "0   20  0.3051  0.0836  0.1266  0.1381  0.1136  0.0516  0.0073  0.0278   \n",
      "1    2  0.1674  0.0583  0.1401  0.1628  0.0621  0.0203  0.0530  0.0742   \n",
      "2   38  0.1994  0.1883  0.2746  0.1651  0.0575  0.0695  0.0598  0.0456   \n",
      "3  104  0.0745  0.1395  0.1552  0.0377  0.0636  0.0443  0.0264  0.0223   \n",
      "4    8  0.1151  0.2196  0.1879  0.1437  0.2146  0.2360  0.1125  0.0254   \n",
      "\n",
      "      V49  ...     V52     V53     V54     V55     V56     V57     V58  \\\n",
      "0  0.0372  ...  0.0092  0.0035  0.0098  0.0121  0.0006  0.0181  0.0094   \n",
      "1  0.0409  ...  0.0084  0.0089  0.0048  0.0094  0.0191  0.0140  0.0049   \n",
      "2  0.0021  ...  0.0022  0.0032  0.0060  0.0054  0.0063  0.0143  0.0132   \n",
      "3  0.0187  ...  0.0071  0.0082  0.0232  0.0198  0.0074  0.0035  0.0100   \n",
      "4  0.0285  ...  0.0081  0.0120  0.0045  0.0121  0.0097  0.0085  0.0047   \n",
      "\n",
      "      V59     V60  Class  \n",
      "0  0.0116  0.0063      R  \n",
      "1  0.0052  0.0044      R  \n",
      "2  0.0051  0.0041      R  \n",
      "3  0.0048  0.0019      M  \n",
      "4  0.0048  0.0053      R  \n",
      "\n",
      "[5 rows x 22 columns]\n"
     ]
    }
   ],
   "source": [
    "print(data3.head())#data3"
   ]
  },
  {
   "cell_type": "code",
   "execution_count": 259,
   "id": "586dc8e6",
   "metadata": {},
   "outputs": [],
   "source": [
    "data1_n = data1_n.astype(str)\n",
    "data2 = data2.astype(str)\n",
    "data3 = data3.astype(str)"
   ]
  },
  {
   "cell_type": "code",
   "execution_count": 262,
   "id": "2f922456",
   "metadata": {},
   "outputs": [],
   "source": [
    "data_merge=pd.merge(data1_n, data2, on=\"ID\")"
   ]
  },
  {
   "cell_type": "code",
   "execution_count": 263,
   "id": "77043886",
   "metadata": {},
   "outputs": [],
   "source": [
    "data_f=pd.merge(data_merge, data3, on=\"ID\")"
   ]
  },
  {
   "cell_type": "code",
   "execution_count": 267,
   "id": "5c70a82d",
   "metadata": {},
   "outputs": [
    {
     "name": "stdout",
     "output_type": "stream",
     "text": [
      "      ID      V1      V2      V3      V4      V5      V6      V7      V8  \\\n",
      "0    148  0.0654  0.0649  0.0737  0.1132  0.2482  0.1257  0.1797  0.0989   \n",
      "1     51  0.0353  0.0713  0.0326  0.0272   0.037  0.0792  0.1083  0.0687   \n",
      "2     81  0.0229  0.0369   0.004  0.0375  0.0455  0.1452  0.2211  0.1188   \n",
      "3     19   0.027  0.0092  0.0145  0.0278  0.0412  0.0757  0.1026  0.1138   \n",
      "4    197   0.005  0.0017   0.027   0.045  0.0958   0.083  0.0879   0.122   \n",
      "..   ...     ...     ...     ...     ...     ...     ...     ...     ...   \n",
      "202   17  0.0352  0.0116  0.0191  0.0469  0.0737  0.1185  0.1683  0.1541   \n",
      "203  164  0.0072  0.0027  0.0089  0.0061   0.042  0.0865  0.1182  0.0999   \n",
      "204  147  0.1021   0.083  0.0577  0.0627  0.0635  0.1328  0.0988  0.1787   \n",
      "205   82    0.01  0.0194  0.0155  0.0489  0.0839  0.1009  0.1627  0.2071   \n",
      "206  151  0.0209  0.0278  0.0115  0.0445  0.0427  0.0766  0.1458   0.143   \n",
      "\n",
      "         V9  ...                    V52                   V53  \\\n",
      "0     0.246  ...                  0.021                0.0361   \n",
      "1    0.0298  ...   0.016300000000000002  0.024200000000000003   \n",
      "2     0.075  ...                 0.0064                0.0022   \n",
      "3    0.0794  ...   0.008400000000000001                 0.001   \n",
      "4    0.1977  ...                 0.0165                0.0056   \n",
      "..      ...  ...                    ...                   ...   \n",
      "202  0.1466  ...                 0.0346                0.0158   \n",
      "203  0.1976  ...  0.0078000000000000005                0.0071   \n",
      "204  0.1199  ...                 0.0709                0.0317   \n",
      "205  0.2696  ...   0.013000000000000001                0.0073   \n",
      "206  0.1894  ...   0.009600000000000001                0.0014   \n",
      "\n",
      "                       V54                    V55                    V56  \\\n",
      "0                   0.0239   0.044700000000000004   0.039400000000000004   \n",
      "1                   0.0043   0.020200000000000003                 0.0108   \n",
      "2                   0.0122                 0.0151                 0.0056   \n",
      "3    0.0018000000000000002  0.0068000000000000005  0.0039000000000000003   \n",
      "4                    0.001                 0.0027   0.006200000000000001   \n",
      "..                     ...                    ...                    ...   \n",
      "202                 0.0154                 0.0109  0.0048000000000000004   \n",
      "203                 0.0081  0.0034000000000000002                 0.0064   \n",
      "204                 0.0309                 0.0252   0.008700000000000001   \n",
      "205                 0.0077   0.007500000000000001                  0.006   \n",
      "206                 0.0049  0.0039000000000000003  0.0029000000000000002   \n",
      "\n",
      "                       V57                    V58                    V59  \\\n",
      "0     0.035500000000000004                  0.044   0.024300000000000002   \n",
      "1                   0.0037   0.009600000000000001   0.009300000000000001   \n",
      "2    0.0026000000000000003  0.0029000000000000002   0.010400000000000001   \n",
      "3                    0.012                 0.0132                  0.007   \n",
      "4    0.0024000000000000002                 0.0063  0.0017000000000000001   \n",
      "..                     ...                    ...                    ...   \n",
      "202                 0.0095                 0.0015                 0.0073   \n",
      "203                 0.0037  0.0036000000000000003  0.0012000000000000001   \n",
      "204                 0.0177   0.021400000000000002                 0.0227   \n",
      "205                  0.008                 0.0019                 0.0053   \n",
      "206  0.0078000000000000005                 0.0047  0.0021000000000000003   \n",
      "\n",
      "                      V60 Class  \n",
      "0                  0.0098     M  \n",
      "1                  0.0053     R  \n",
      "2    0.016300000000000002     R  \n",
      "3                  0.0088     R  \n",
      "4                  0.0028     M  \n",
      "..                    ...   ...  \n",
      "202                0.0067     R  \n",
      "203                0.0037     M  \n",
      "204                0.0106     M  \n",
      "205                0.0019     R  \n",
      "206                0.0011     M  \n",
      "\n",
      "[207 rows x 61 columns]\n"
     ]
    }
   ],
   "source": [
    "print(data_f)#final data"
   ]
  },
  {
   "cell_type": "code",
   "execution_count": 284,
   "id": "c51808f5",
   "metadata": {},
   "outputs": [
    {
     "name": "stdout",
     "output_type": "stream",
     "text": [
      "61\n",
      "207\n"
     ]
    }
   ],
   "source": [
    "print(len(data_f.columns))\n",
    "print(len(data_f))"
   ]
  }
 ],
 "metadata": {
  "kernelspec": {
   "display_name": "Python 3 (ipykernel)",
   "language": "python",
   "name": "python3"
  },
  "language_info": {
   "codemirror_mode": {
    "name": "ipython",
    "version": 3
   },
   "file_extension": ".py",
   "mimetype": "text/x-python",
   "name": "python",
   "nbconvert_exporter": "python",
   "pygments_lexer": "ipython3",
   "version": "3.9.7"
  }
 },
 "nbformat": 4,
 "nbformat_minor": 5
}
